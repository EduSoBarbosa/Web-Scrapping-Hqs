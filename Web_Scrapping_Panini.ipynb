{
  "nbformat": 4,
  "nbformat_minor": 0,
  "metadata": {
    "colab": {
      "provenance": [],
      "authorship_tag": "ABX9TyO8Ellw1IMve0Ir+CACJR2B",
      "include_colab_link": true
    },
    "kernelspec": {
      "name": "python3",
      "display_name": "Python 3"
    },
    "language_info": {
      "name": "python"
    }
  },
  "cells": [
    {
      "cell_type": "markdown",
      "metadata": {
        "id": "view-in-github",
        "colab_type": "text"
      },
      "source": [
        "<a href=\"https://colab.research.google.com/github/EduSoBarbosa/Web-Scrapping-Hqs/blob/main/Web_Scrapping_Panini.ipynb\" target=\"_parent\"><img src=\"https://colab.research.google.com/assets/colab-badge.svg\" alt=\"Open In Colab\"/></a>"
      ]
    },
    {
      "cell_type": "markdown",
      "source": [
        "### Pips"
      ],
      "metadata": {
        "id": "QiOF797oUrQI"
      }
    },
    {
      "cell_type": "code",
      "execution_count": 64,
      "metadata": {
        "colab": {
          "base_uri": "https://localhost:8080/"
        },
        "id": "lgIXcvntUo1T",
        "outputId": "1c412462-924e-454d-885f-fe6a5f62e262"
      },
      "outputs": [
        {
          "output_type": "stream",
          "name": "stdout",
          "text": [
            "Requirement already satisfied: requests in /usr/local/lib/python3.12/dist-packages (2.32.4)\n",
            "Requirement already satisfied: charset_normalizer<4,>=2 in /usr/local/lib/python3.12/dist-packages (from requests) (3.4.3)\n",
            "Requirement already satisfied: idna<4,>=2.5 in /usr/local/lib/python3.12/dist-packages (from requests) (3.10)\n",
            "Requirement already satisfied: urllib3<3,>=1.21.1 in /usr/local/lib/python3.12/dist-packages (from requests) (2.5.0)\n",
            "Requirement already satisfied: certifi>=2017.4.17 in /usr/local/lib/python3.12/dist-packages (from requests) (2025.8.3)\n",
            "Requirement already satisfied: beautifulsoup4 in /usr/local/lib/python3.12/dist-packages (4.13.5)\n",
            "Requirement already satisfied: soupsieve>1.2 in /usr/local/lib/python3.12/dist-packages (from beautifulsoup4) (2.8)\n",
            "Requirement already satisfied: typing-extensions>=4.0.0 in /usr/local/lib/python3.12/dist-packages (from beautifulsoup4) (4.15.0)\n",
            "Requirement already satisfied: pyTelegramBotAPI in /usr/local/lib/python3.12/dist-packages (4.29.1)\n",
            "Requirement already satisfied: requests in /usr/local/lib/python3.12/dist-packages (from pyTelegramBotAPI) (2.32.4)\n",
            "Requirement already satisfied: charset_normalizer<4,>=2 in /usr/local/lib/python3.12/dist-packages (from requests->pyTelegramBotAPI) (3.4.3)\n",
            "Requirement already satisfied: idna<4,>=2.5 in /usr/local/lib/python3.12/dist-packages (from requests->pyTelegramBotAPI) (3.10)\n",
            "Requirement already satisfied: urllib3<3,>=1.21.1 in /usr/local/lib/python3.12/dist-packages (from requests->pyTelegramBotAPI) (2.5.0)\n",
            "Requirement already satisfied: certifi>=2017.4.17 in /usr/local/lib/python3.12/dist-packages (from requests->pyTelegramBotAPI) (2025.8.3)\n",
            "Requirement already satisfied: schedule in /usr/local/lib/python3.12/dist-packages (1.2.2)\n"
          ]
        }
      ],
      "source": [
        "!pip install requests\n",
        "!pip install beautifulsoup4\n",
        "!pip install pyTelegramBotAPI\n",
        "!pip install schedule\n"
      ]
    },
    {
      "cell_type": "markdown",
      "source": [
        "### Imports"
      ],
      "metadata": {
        "id": "KEBGB7z6VZm7"
      }
    },
    {
      "cell_type": "code",
      "source": [
        "import requests\n",
        "import threading\n",
        "import telebot\n",
        "from telebot import types\n",
        "import time\n",
        "import logging\n",
        "from telebot.types import ReplyKeyboardMarkup\n",
        "from bs4 import BeautifulSoup\n",
        "from itertools import chain\n"
      ],
      "metadata": {
        "id": "i_Ueil3mVZCZ"
      },
      "execution_count": 65,
      "outputs": []
    },
    {
      "cell_type": "markdown",
      "source": [
        "## **Extraindo url e Criando função basica**"
      ],
      "metadata": {
        "id": "oX-lr1oDWNGG"
      }
    },
    {
      "cell_type": "code",
      "source": [
        "url = 'https://panini.com.br/desconto-saldao?editorial=DC+Comics&product_list_order=percentage_discount'\n",
        "url2 = 'https://panini.com.br/desconto-saldao?editorial=DC+Comics&p=2&product_list_order=percentage_discount'\n",
        "url3 = 'https://panini.com.br/desconto-saldao?editorial=DC+Comics&p=3&product_list_order=percentage_discount'\n",
        "\n",
        "response = requests.get(url)\n",
        "response2 = requests.get(url2)\n",
        "response3 = requests.get(url3)\n",
        "\n",
        "soup = BeautifulSoup(response.text, 'html.parser')\n",
        "soup2 = BeautifulSoup(response2.text, 'html.parser')\n",
        "soup3 = BeautifulSoup(response3.text, 'html.parser')\n",
        "#Procurar links com partes do html\n",
        "#links_editoriais = soup.select('a[href*=\"desconto-saldao?editorial=\"]')\n",
        "#print(f\"Encontrados {len(links_editoriais)} links de editoriais em promoção.\")\n",
        "\n",
        "lista_Produtos = soup.find_all('div', class_=\"product-item-info\")\n",
        "lista_Produtos2 = soup2.find_all('div', class_=\"product-item-info\")\n",
        "lista_Produtos3 = soup3.find_all('div', class_=\"product-item-info\")"
      ],
      "metadata": {
        "id": "yJLsQje5WFsa"
      },
      "execution_count": 66,
      "outputs": []
    },
    {
      "cell_type": "code",
      "source": [
        "print(f'Encontramos {len(lista_Produtos) + len(lista_Produtos2) + len(lista_Produtos3)} price box')"
      ],
      "metadata": {
        "colab": {
          "base_uri": "https://localhost:8080/"
        },
        "id": "8QJ4XBcoWfX2",
        "outputId": "f9a5fce5-9f11-4dfb-a8fc-5898776fe2a4"
      },
      "execution_count": 67,
      "outputs": [
        {
          "output_type": "stream",
          "name": "stdout",
          "text": [
            "Encontramos 30 price box\n"
          ]
        }
      ]
    },
    {
      "cell_type": "code",
      "source": [
        "dados_produtos = []\n",
        "def Extrair():\n",
        "    for produto_html in chain(lista_Produtos, lista_Produtos2, lista_Produtos3):\n",
        "        tag_nome = produto_html.find('a', class_='product-item-link')\n",
        "        if tag_nome:\n",
        "            nome = tag_nome.text.strip()\n",
        "            nome = nome.upper()\n",
        "            link = tag_nome.get('href', 'x')\n",
        "        else:\n",
        "            continue\n",
        "\n",
        "        tag_preco = produto_html.find('span', class_='price')\n",
        "        if tag_preco:\n",
        "            preco = tag_preco.text.strip()\n",
        "            preco = preco.replace(\"\\xa0\", '')\n",
        "        else:\n",
        "            continue\n",
        "\n",
        "        tag_preco_antigo = produto_html.find('span', class_='old-price')\n",
        "        if tag_preco_antigo:\n",
        "            preco_antigo = tag_preco_antigo.text.strip()\n",
        "            preco_antigo = preco_antigo.replace('Preço', '')\n",
        "            preco_antigo = preco_antigo.replace(\"\\xa0\", '')\n",
        "        else:\n",
        "            continue\n",
        "\n",
        "        dados_produtos.append({\n",
        "            'Nome': nome,\n",
        "            'Preço': preco,\n",
        "            'Preço Antigo': preco_antigo,\n",
        "            'Link': link\n",
        "\n",
        "    })\n"
      ],
      "metadata": {
        "id": "7BPVsH9kWvfa"
      },
      "execution_count": 68,
      "outputs": []
    },
    {
      "cell_type": "code",
      "source": [],
      "metadata": {
        "id": "MrfYVQgxWydT"
      },
      "execution_count": 68,
      "outputs": []
    },
    {
      "cell_type": "markdown",
      "source": [
        "## Funções de Tratamento"
      ],
      "metadata": {
        "id": "HVsrQ094X_Zp"
      }
    },
    {
      "cell_type": "code",
      "source": [
        "class CategoriaProdutos:\n",
        "    def __init__(self, nome):\n",
        "        self.nome = nome\n",
        "        self.tags = []\n",
        "\n",
        "    def adicionar_tags(self, produto):\n",
        "        self.tags.append(produto)\n",
        "\n",
        "    def mostrar(self):\n",
        "        texto = ''\n",
        "        if not self.tags:\n",
        "            texto = f\"Não há produtos na categoria {self.nome}.\"\n",
        "            return texto\n",
        "        else:\n",
        "          for produto in self.tags:\n",
        "              texto += f\"{produto['Nome']} | Preço: {produto['Preço']} | Preço Antigo: {produto['Preço Antigo']} \\n{produto['Link']}\\n\\n\"\n",
        "          return texto"
      ],
      "metadata": {
        "id": "ZEsQkuhdYEbg"
      },
      "execution_count": 69,
      "outputs": []
    },
    {
      "cell_type": "code",
      "source": [
        "#tags\n",
        "Batman = CategoriaProdutos('BATMAN')\n",
        "Superman = CategoriaProdutos('SUPERMAN')\n",
        "Maravilha = CategoriaProdutos('MULHER-MARAVILHA')\n",
        "Lanterna_Verde = CategoriaProdutos('LANTERNA VERDE')\n",
        "Constantine = CategoriaProdutos('HELLBLAZER')\n",
        "LigaDaJustiça = CategoriaProdutos('LIGA DA JUSTIÇA')\n",
        "Sandman = CategoriaProdutos('SANDMAN')\n",
        "Lucifer = CategoriaProdutos('LÚCIFER')\n",
        "Alvo_Humano = CategoriaProdutos('ALVO HUMANO')\n",
        "Mulher_Gato = CategoriaProdutos('MULHER GATO')\n",
        "Asa_Noturna = CategoriaProdutos('ASA NOTURNA')\n",
        "Aquaman = CategoriaProdutos('AQUAMAN')\n",
        "\n",
        "Extrair()\n",
        "\n",
        "def l():\n",
        "    mapa = {\n",
        "        \"BATMAN\": Batman,\n",
        "        \"SUPERMAN\": Superman,\n",
        "        \"MULHER MARAVILHA\": Maravilha,\n",
        "        \"LANTERNA VERDE\": Lanterna_Verde,\n",
        "        \"HELLBLAZER\": Constantine,\n",
        "        \"LIGA DA JUSTIÇA\": LigaDaJustiça,\n",
        "        \"SANDMAN\": Sandman,\n",
        "        \"LUCIFER\": Lucifer,\n",
        "        \"ALVO\": Alvo_Humano,\n",
        "        \"MULHER GATO\": Mulher_Gato,\n",
        "        \"ASA NOTURNA\": Asa_Noturna,\n",
        "        \"AQUAMAN\": Aquaman\n",
        "    }\n",
        "\n",
        "    for produto in dados_produtos:\n",
        "        nome = produto[\"Nome\"].upper()\n",
        "        for chave, classe in mapa.items():\n",
        "            if chave in nome:\n",
        "                classe.adicionar_tags(produto)\n",
        "\n",
        "l()\n"
      ],
      "metadata": {
        "id": "gMFhj0zgY2Au"
      },
      "execution_count": 70,
      "outputs": []
    },
    {
      "cell_type": "markdown",
      "source": [
        "# Bot telegram"
      ],
      "metadata": {
        "id": "GLsCgj3dYugh"
      }
    },
    {
      "cell_type": "code",
      "source": [
        "bot = telebot.TeleBot('7773874902:AAHvKjQ-Ifb2WtsyBiHjeYGL-lWtY4nf70s')\n",
        "dados = dados_produtos\n",
        "@bot.message_handler(commands=['start'])\n",
        "def start(msg:telebot.types.Message): # type: ignore\n",
        "  texto =  f'Olá seja bem vindo, Gostaria de ver todas as promoções ou usar tags?'\n",
        "  bot.send_message(msg.chat.id, texto)\n",
        "  time.sleep(1)\n",
        "  texto = '''\n",
        "/Todas\n",
        "/Tags\n",
        "  '''\n",
        "  bot.reply_to(msg, texto)\n",
        "\n",
        "\n",
        "\n",
        "@bot.message_handler(commands=['Todas'])\n",
        "def Todas(msg:telebot.types.Message): # type: ignore\n",
        "  mensagem = ''\n",
        "  for produto in dados_produtos:\n",
        "      mensagem += f\"{produto['Nome']} | Preço: {produto['Preço']} | Preço Antigo:{produto['Preço Antigo']} \\n {produto['Link']} \\n\"\n",
        "  bot.send_message(msg.chat.id, mensagem)\n",
        "\n",
        "\n",
        "\n",
        "@bot.message_handler(commands=['Tags'])\n",
        "def Tags(msg:telebot.types.Message): # type: ignore\n",
        "   texto = f'Abaixo a Lista de Tags Disponiveis'\n",
        "   bot.send_message(msg.chat.id, texto)\n",
        "   time.sleep(1)\n",
        "   texto = '''\n",
        "1. /Batman\n",
        "\n",
        "2. /Superman\n",
        "\n",
        "3. /Mulher_Maravilha\n",
        "\n",
        "4. /Lanterna_Verde\n",
        "\n",
        "4. /Constantine\n",
        "\n",
        "6. /LigaDaJustica\n",
        "\n",
        "7. /Sandman\n",
        "\n",
        "8. /Lucifer\n",
        "\n",
        "9. /Alvo_Humano\n",
        "\n",
        "10. /Mulher_Gato\n",
        "\n",
        "11. /Asa_Noturna\n",
        "\n",
        "12. /Aquaman\n",
        "'''\n",
        "   bot.send_message(msg.chat.id, texto)\n",
        "\n",
        "\n",
        "@bot.message_handler(commands=['Batman'])\n",
        "def mostrar_batman(msg:telebot.types.Message): # type: ignore\n",
        "    texto = Batman.mostrar()\n",
        "    bot.send_message(msg.chat.id, texto)\n",
        "    time.sleep(1)\n",
        "    texto = '/start'\n",
        "    bot.send_message(msg.chat.id, texto)\n",
        "\n",
        "@bot.message_handler(commands=['Superman'])\n",
        "def mostrar_Superman(msg:telebot.types.Message): # type: ignore\n",
        "    texto = Superman.mostrar()\n",
        "    bot.send_message(msg.chat.id, texto)\n",
        "    time.sleep(1)\n",
        "    texto = '/start'\n",
        "    bot.send_message(msg.chat.id, texto)\n",
        "\n",
        "@bot.message_handler(commands=['Mulher_Maravilha'])\n",
        "def mostrar_Mulher_Maravilha(msg:telebot.types.Message): # type: ignore\n",
        "    texto = Maravilha.mostrar()\n",
        "    bot.send_message(msg.chat.id, texto)\n",
        "    time.sleep(1)\n",
        "    texto = '/start'\n",
        "    bot.send_message(msg.chat.id, texto)\n",
        "\n",
        "@bot.message_handler(commands=['Lanterna_Verde'])\n",
        "def mostrar_Lanterna_Verde(msg:telebot.types.Message): # type: ignore\n",
        "    texto = Lanterna_Verde.mostrar()\n",
        "    bot.send_message(msg.chat.id, texto)\n",
        "    time.sleep(1)\n",
        "    texto = '/start'\n",
        "    bot.send_message(msg.chat.id, texto)\n",
        "\n",
        "@bot.message_handler(commands=['Constantine'])\n",
        "def mostrar_Constantine(msg:telebot.types.Message): # type: ignore\n",
        "    texto = Constantine.mostrar()\n",
        "    bot.send_message(msg.chat.id, texto)\n",
        "    time.sleep(1)\n",
        "    texto = '/start'\n",
        "    bot.send_message(msg.chat.id, texto)\n",
        "\n",
        "@bot.message_handler(commands=['LigaDaJustica'])\n",
        "def mostrar_liga(msg:telebot.types.Message): # type: ignore\n",
        "    texto = LigaDaJustiça.mostrar()\n",
        "    bot.send_message(msg.chat.id, texto)\n",
        "    time.sleep(1)\n",
        "    texto = '/start'\n",
        "    bot.send_message(msg.chat.id, texto)\n",
        "\n",
        "@bot.message_handler(commands=['Sandman'])\n",
        "def mostrar_Sandman(msg:telebot.types.Message): # type: ignore\n",
        "    texto = Sandman.mostrar()\n",
        "    bot.send_message(msg.chat.id, texto)\n",
        "    time.sleep(1)\n",
        "    texto = '/start'\n",
        "    bot.send_message(msg.chat.id, texto)\n",
        "\n",
        "@bot.message_handler(commands=['Lucifer'])\n",
        "def mostrar_Lucifer(msg:telebot.types.Message): # type: ignore\n",
        "    texto = Lucifer.mostrar()\n",
        "    bot.send_message(msg.chat.id, texto)\n",
        "    time.sleep(1)\n",
        "    texto = '/start'\n",
        "    bot.send_message(msg.chat.id, texto)\n",
        "\n",
        "@bot.message_handler(commands=['Alvo_Humano'])\n",
        "def mostrar_Alvo_Humano(msg:telebot.types.Message): # type: ignore\n",
        "    texto = Alvo_Humano.mostrar()\n",
        "    bot.send_message(msg.chat.id, texto)\n",
        "    time.sleep(1)\n",
        "    texto = '/start'\n",
        "    bot.send_message(msg.chat.id, texto)\n",
        "\n",
        "@bot.message_handler(commands=['Mulher_Gato'])\n",
        "def mostrar_Mulher_Gato(msg:telebot.types.Message): # type: ignore\n",
        "    texto = Mulher_Gato.mostrar()\n",
        "    bot.send_message(msg.chat.id, texto)\n",
        "    time.sleep(1)\n",
        "    texto = '/start'\n",
        "    bot.send_message(msg.chat.id, texto)\n",
        "\n",
        "@bot.message_handler(commands=['Asa_Noturna'])\n",
        "def mostrar_Asa_Noturna(msg:telebot.types.Message): # type: ignore\n",
        "    texto = Asa_Noturna.mostrar()\n",
        "    bot.send_message(msg.chat.id, texto)\n",
        "    time.sleep(1)\n",
        "    texto = '/start'\n",
        "    bot.send_message(msg.chat.id, texto)\n",
        "\n",
        "@bot.message_handler(commands=['Aquaman'])\n",
        "def mostrar_Aquaman(msg:telebot.types.Message): # type: ignore\n",
        "    texto = Aquaman.mostrar()\n",
        "    bot.send_message(msg.chat.id, texto)\n",
        "    time.sleep(1)\n",
        "    texto = '/start'\n",
        "    bot.send_message(msg.chat.id, texto)\n",
        "\n",
        "\n",
        "\n",
        "\n",
        "\n",
        "bot.infinity_polling()"
      ],
      "metadata": {
        "colab": {
          "base_uri": "https://localhost:8080/"
        },
        "id": "YKzcACW7Y4K2",
        "outputId": "70381561-a46f-489b-a9f5-e16e56b3f8d8"
      },
      "execution_count": 71,
      "outputs": [
        {
          "output_type": "stream",
          "name": "stderr",
          "text": [
            "2025-09-28 03:07:40,287 (__init__.py:1121 MainThread) ERROR - TeleBot: \"Infinity polling: polling exited\"\n",
            "ERROR:TeleBot:Infinity polling: polling exited\n",
            "2025-09-28 03:07:40,291 (__init__.py:1123 MainThread) ERROR - TeleBot: \"Break infinity polling\"\n",
            "ERROR:TeleBot:Break infinity polling\n"
          ]
        }
      ]
    }
  ]
}